{
  "nbformat": 4,
  "nbformat_minor": 0,
  "metadata": {
    "colab": {
      "provenance": [],
      "authorship_tag": "ABX9TyNb/+WfSgagQ2ddrcOL+YII",
      "include_colab_link": true
    },
    "kernelspec": {
      "name": "python3",
      "display_name": "Python 3"
    },
    "language_info": {
      "name": "python"
    }
  },
  "cells": [
    {
      "cell_type": "markdown",
      "metadata": {
        "id": "view-in-github",
        "colab_type": "text"
      },
      "source": [
        "<a href=\"https://colab.research.google.com/github/lauren-tucker-006/Python-Projects/blob/main/pa02_LaurenTucker.ipynb\" target=\"_parent\"><img src=\"https://colab.research.google.com/assets/colab-badge.svg\" alt=\"Open In Colab\"/></a>"
      ]
    },
    {
      "cell_type": "code",
      "execution_count": null,
      "metadata": {
        "colab": {
          "base_uri": "https://localhost:8080/"
        },
        "id": "q3jLwlYnJoCM",
        "outputId": "a453bf97-db89-443b-ffae-e7665d871078"
      },
      "outputs": [
        {
          "output_type": "stream",
          "name": "stdout",
          "text": [
            "Enter the length of room 1 in feet: 14.9\n",
            "Enter the width of room 1 in feet:  11.6\n",
            " Enter the length of room 2 in feet: 18.0\n",
            "Enter the width of room 2 in feet: 14.9\n",
            "Enter the length of room 3 in feet: 23.0\n",
            "Enter the width of room 3 in feet: 18.0\n",
            "Choose cleaning option:\n",
            "1. Regular cleaning treatment ($0.75 per square foot)\n",
            "2. Spot removal treatment ($1.25 per square foot)\n",
            "Enter 1 for regular cleaning or 2 for spot removal: 2\n",
            "\n",
            "Results:\n",
            "Total area cleaned: 855.04 square feet\n",
            "Total cleaning cost: $ 1068.80\n",
            "Number of UCO football tickets to be given: 8.0\n"
          ]
        }
      ],
      "source": [
        "# Declare variables\n",
        "total_area = 0\n",
        "cost = 0\n",
        "tickets = 0\n",
        "# Input room dimensions\n",
        "length1 = float(input(\"Enter the length of room 1 in feet: \"))\n",
        "width1 = float(input(\"Enter the width of room 1 in feet:  \"))\n",
        "area1 = length1 * width1\n",
        "length2 = float(input(\" Enter the length of room 2 in feet: \"))\n",
        "width2 = float(input(\"Enter the width of room 2 in feet: \"))\n",
        "area2 = length2 * width2\n",
        "length3 = float(input(\"Enter the length of room 3 in feet: \"))\n",
        "width3 = float(input(\"Enter the width of room 3 in feet: \"))\n",
        "area3 = length3 * width3\n",
        "# Calculate total area\n",
        "total_area = area1 + area2 + area3\n",
        "# Choose cleaning option\n",
        "print(\"Choose cleaning option:\")\n",
        "print(\"1. Regular cleaning treatment ($0.75 per square foot)\")\n",
        "print(\"2. Spot removal treatment ($1.25 per square foot)\")\n",
        "option = int(input(\"Enter 1 for regular cleaning or 2 for spot removal: \"))\n",
        "if option == 1: cost = total_area * 0.75\n",
        "# Declare variables\n",
        "if option == 1:\n",
        "    cost = total_area * 0.75\n",
        "elif option == 2:\n",
        "    cost = total_area * 1.25\n",
        "else:\n",
        "    print(\"Invalid option.\")\n",
        "    exit()\n",
        "#Calculate football tickets\n",
        "tickets = total_area // 100\n",
        "# Display results\n",
        "print(\"\\nResults:\")\n",
        "print(f\"Total area cleaned: {total_area} square feet\")\n",
        "print(f\"Total cleaning cost: ${cost: .2f}\")\n",
        "print(f\"Number of UCO football tickets to be given: {tickets}\")"
      ]
    }
  ]
}