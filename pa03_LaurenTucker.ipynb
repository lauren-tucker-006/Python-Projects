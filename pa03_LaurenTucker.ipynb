{
  "nbformat": 4,
  "nbformat_minor": 0,
  "metadata": {
    "colab": {
      "provenance": [],
      "authorship_tag": "ABX9TyOJal+J79yznA13qXO8JjdJ",
      "include_colab_link": true
    },
    "kernelspec": {
      "name": "python3",
      "display_name": "Python 3"
    },
    "language_info": {
      "name": "python"
    }
  },
  "cells": [
    {
      "cell_type": "markdown",
      "metadata": {
        "id": "view-in-github",
        "colab_type": "text"
      },
      "source": [
        "<a href=\"https://colab.research.google.com/github/lauren-tucker-006/Python-Projects/blob/main/pa03_LaurenTucker.ipynb\" target=\"_parent\"><img src=\"https://colab.research.google.com/assets/colab-badge.svg\" alt=\"Open In Colab\"/></a>"
      ]
    },
    {
      "cell_type": "code",
      "execution_count": null,
      "metadata": {
        "colab": {
          "base_uri": "https://localhost:8080/"
        },
        "id": "IFAs477FT2rt",
        "outputId": "5c166db9-7011-4eae-fdb4-812acf51edfd"
      },
      "outputs": [
        {
          "output_type": "stream",
          "name": "stdout",
          "text": [
            "Enter 'yes' to vote for the proposal, 'no' to vote against the proposal, or 'quit' to quit voting.\n",
            "Enter your vote: Yes\n",
            "Enter your vote: Yes\n",
            "Enter your vote: Yes\n",
            "Enter your vote: Yes\n",
            "Enter your vote: No\n",
            "Enter your vote: No\n",
            "Enter your vote: No\n",
            "Enter your vote: No\n",
            "Enter your vote: No\n",
            "Enter your vote: No\n",
            "Enter your vote: Quit\n",
            "\n",
            "Total 'yes' votes: 4\n",
            "Total 'no' votes: 6\n",
            "Not approved.\n"
          ]
        }
      ],
      "source": [
        "# Initialize vote counters\n",
        "def main():\n",
        "  yes_votes = 0\n",
        "  no_votes = 0\n",
        "  # Display voting instructions\n",
        "  print(\"Enter 'yes' to vote for the proposal, 'no' to vote against the proposal, or 'quit' to quit voting.\")\n",
        "  # Prompt for vote input\n",
        "  while True:\n",
        "    vote = input(\"Enter your vote: \").lower()\n",
        "    if vote == \"yes\":\n",
        "      yes_votes += 1\n",
        "    elif vote == \"no\":\n",
        "      no_votes += 1\n",
        "    elif vote == \"quit\":\n",
        "      break\n",
        "    else:\n",
        "      print(\"Invalid input. Please enter 'yes', 'no', or 'quit'.\")\n",
        "  # Display total votes\n",
        "  print(f\"\\nTotal 'yes' votes: {yes_votes}\")\n",
        "  print(f\"Total 'no' votes: {no_votes}\")\n",
        "  # Determine and display proposed outcome\n",
        "  if yes_votes > no_votes:\n",
        "      print(\"Proposal approved.\")\n",
        "  else:\n",
        "      print(\"Not approved.\")\n",
        "main()"
      ]
    }
  ]
}