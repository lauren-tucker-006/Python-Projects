{
  "nbformat": 4,
  "nbformat_minor": 0,
  "metadata": {
    "colab": {
      "provenance": [],
      "toc_visible": true
    },
    "kernelspec": {
      "name": "python3",
      "display_name": "Python 3"
    },
    "language_info": {
      "name": "python"
    }
  },
  "cells": [
    {
      "cell_type": "markdown",
      "source": [],
      "metadata": {
        "id": "xf6e-GK9LYx5"
      }
    },
    {
      "cell_type": "code",
      "execution_count": 7,
      "metadata": {
        "id": "VfRT5bv9pbsX",
        "colab": {
          "base_uri": "https://localhost:8080/"
        },
        "outputId": "81ffe732-4b14-4319-ce07-b5ec04d752c7"
      },
      "outputs": [
        {
          "output_type": "stream",
          "name": "stdout",
          "text": [
            "Enter your name: Kate Tucker\n",
            "Enter your student ID (numbers only): 20523655\n",
            "Enter a floating-point number: 858.854\n",
            "Hello, Kate Tucker!\n",
            "Your student ID is: 20523655\n",
            "The floating-point number you entered is: 858.854\n"
          ]
        }
      ],
      "source": [
        "# question one of the assignment\n",
        "name = input(\"Enter your name: \")\n",
        "student_id = int(input(\"Enter your student ID (numbers only): \"))\n",
        "floating_point_number = float(input(\"Enter a floating-point number: \"))\n",
        "print(\"Hello, \" + name + \"!\")\n",
        "print(\"Your student ID is: \" + str(student_id))\n",
        "print(\"The floating-point number you entered is: \" + str(floating_point_number))"
      ]
    },
    {
      "cell_type": "code",
      "source": [
        "# question two of the assignment\n",
        "sugar_per_batch = 1.5\n",
        "butter_per_batch = 1\n",
        "flour_per_batch  = 2.75\n",
        "cookies = int(input(\"Enter number of cookies: \"))\n",
        "x = (sugar_per_batch / 48) * cookies\n",
        "y = (butter_per_batch / 48) * cookies\n",
        "z = (flour_per_batch / 48) * cookies\n",
        "print(f'You need {x} cups of sugar, {y} cups of butter, and {z} cups of flour.')"
      ],
      "metadata": {
        "colab": {
          "base_uri": "https://localhost:8080/"
        },
        "id": "AraEp1RWLjzi",
        "outputId": "bcc72424-9867-4bc7-e391-b786d8fbcd51"
      },
      "execution_count": 13,
      "outputs": [
        {
          "output_type": "stream",
          "name": "stdout",
          "text": [
            "Enter number of cookies: 60\n",
            "You need 1.875 cups of sugar, 1.25 cups of butter, and 3.4375 cups of flour.\n"
          ]
        }
      ]
    },
    {
      "cell_type": "code",
      "source": [
        "# question three of the assignment\n",
        "males = int(input(\"Enter the number of males: \"))\n",
        "females = int(input(\"Enter the number of females: \"))\n",
        "total = males + females\n",
        "percent_males = round((males / total) * 100)\n",
        "percent_females = round((females / total) * 100)\n",
        "print(\"Percent males: \" + str(percent_males) + \"%\")\n",
        "print(\"Percent females: \" + str(percent_females) + \"%\")"
      ],
      "metadata": {
        "colab": {
          "base_uri": "https://localhost:8080/"
        },
        "id": "n9iqhzSyPDoW",
        "outputId": "56d6a5f2-82ba-4268-fe5b-23029973e68d"
      },
      "execution_count": 16,
      "outputs": [
        {
          "output_type": "stream",
          "name": "stdout",
          "text": [
            "Enter the number of males: 4\n",
            "Enter the number of females: 17\n",
            "Percent males: 19%\n",
            "Percent females: 81%\n"
          ]
        }
      ]
    }
  ]
}