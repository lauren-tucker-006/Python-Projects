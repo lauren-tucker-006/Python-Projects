{
  "nbformat": 4,
  "nbformat_minor": 0,
  "metadata": {
    "colab": {
      "provenance": [],
      "authorship_tag": "ABX9TyPWXfBuUfxooxQqy2tem2+g",
      "include_colab_link": true
    },
    "kernelspec": {
      "name": "python3",
      "display_name": "Python 3"
    },
    "language_info": {
      "name": "python"
    }
  },
  "cells": [
    {
      "cell_type": "markdown",
      "metadata": {
        "id": "view-in-github",
        "colab_type": "text"
      },
      "source": [
        "<a href=\"https://colab.research.google.com/github/lauren-tucker-006/Python-Projects/blob/main/pa04_LaurenTucker.ipynb\" target=\"_parent\"><img src=\"https://colab.research.google.com/assets/colab-badge.svg\" alt=\"Open In Colab\"/></a>"
      ]
    },
    {
      "cell_type": "code",
      "execution_count": null,
      "metadata": {
        "id": "8RTwiNKmGCys",
        "colab": {
          "base_uri": "https://localhost:8080/"
        },
        "outputId": "11616966-8160-41c0-e0a9-146eb6a7e1d8"
      },
      "outputs": [
        {
          "output_type": "stream",
          "name": "stdout",
          "text": [
            "Enter the number of years: 3\n",
            "\n",
            "For year 1:\n",
            "Enter the rainfall amount for the month: 39\n",
            "Enter the rainfall amount for the month: 34\n",
            "Enter the rainfall amount for the month: 25\n",
            "Enter the rainfall amount for the month: 58\n",
            "Enter the rainfall amount for the month: 43\n",
            "Enter the rainfall amount for the month: 27\n",
            "Enter the rainfall amount for the month: 32\n",
            "Enter the rainfall amount for the month: 14\n",
            "Enter the rainfall amount for the month: 42\n",
            "Enter the rainfall amount for the month: 22\n",
            "Enter the rainfall amount for the month: 20\n",
            "Enter the rainfall amount for the month: 51\n",
            "\n",
            "For year 2:\n",
            "Enter the rainfall amount for the month: 47\n",
            "Enter the rainfall amount for the month: 35\n",
            "Enter the rainfall amount for the month: 44\n",
            "Enter the rainfall amount for the month: 27\n",
            "Enter the rainfall amount for the month: 51\n",
            "Enter the rainfall amount for the month: 15\n",
            "Enter the rainfall amount for the month: 15\n",
            "Enter the rainfall amount for the month: 55\n",
            "Enter the rainfall amount for the month: 39\n",
            "Enter the rainfall amount for the month: 35\n",
            "Enter the rainfall amount for the month: 10\n",
            "Enter the rainfall amount for the month: 42\n",
            "\n",
            "For year 3:\n",
            "Enter the rainfall amount for the month: 23\n",
            "Enter the rainfall amount for the month: 29\n",
            "Enter the rainfall amount for the month: 22\n",
            "Enter the rainfall amount for the month: 42\n",
            "Enter the rainfall amount for the month: 44\n",
            "Enter the rainfall amount for the month: 56\n",
            "Enter the rainfall amount for the month: 51\n",
            "Enter the rainfall amount for the month: 45\n",
            "Enter the rainfall amount for the month: 13\n",
            "Enter the rainfall amount for the month: 36\n",
            "Enter the rainfall amount for the month: 39\n",
            "Enter the rainfall amount for the month: 19\n",
            "\n",
            "Results:\n",
            "Total number of months: 36\n",
            "Total inches of rainfall: 1241.0\n",
            "Average rainfall per month: 34.47 inches\n"
          ]
        }
      ],
      "source": [
        "# input number of years\n",
        "years = int(input(\"Enter the number of years: \"))\n",
        "# initialize variables\n",
        "total_months = 0\n",
        "total_rainfall = 0\n",
        "# nested loops for data collection\n",
        "for year in range(1, years + 1):\n",
        "  print(f\"\\nFor year {year}:\")\n",
        "  for month in range(1, 13):\n",
        "    rainfall = float(input(f\"Enter the rainfall amount for the month: \"))\n",
        "    total_rainfall += rainfall\n",
        "    total_months += 1\n",
        "# calculate average rainfall\n",
        "average_rainfall = total_rainfall / total_months\n",
        "# display results\n",
        "print(\"\\nResults:\")\n",
        "print(f\"Total number of months: {total_months}\")\n",
        "print(f\"Total inches of rainfall: {total_rainfall}\")\n",
        "print(f\"Average rainfall per month: {average_rainfall:.2f} inches\")"
      ]
    },
    {
      "cell_type": "code",
      "source": [
        "# Program 2: Sum of Positive Numbers\n",
        "# initialize variable for sum\n",
        "total = 0\n",
        "# loop to collect positive numbers\n",
        "while True:\n",
        "  number = float(input(\"Enter a positive number (negative to quit): \"))\n",
        "  if number < 0:\n",
        "    break\n",
        "  total += number\n",
        "# display sum\n",
        "print(f\"Total: {total}\")\n"
      ],
      "metadata": {
        "colab": {
          "base_uri": "https://localhost:8080/"
        },
        "id": "kYyCl7yf-Vgz",
        "outputId": "eccf9416-89bd-4fd7-a586-b79b1dd73280"
      },
      "execution_count": null,
      "outputs": [
        {
          "output_type": "stream",
          "name": "stdout",
          "text": [
            "Enter a positive number (negative to quit): 23\n",
            "Enter a positive number (negative to quit): 10\n",
            "Enter a positive number (negative to quit): 24\n",
            "Enter a positive number (negative to quit): 51\n",
            "Enter a positive number (negative to quit): 88\n",
            "Enter a positive number (negative to quit): 25\n",
            "Enter a positive number (negative to quit): 72\n",
            "Enter a positive number (negative to quit): 31\n",
            "Enter a positive number (negative to quit): 92\n",
            "Enter a positive number (negative to quit): 36\n",
            "Enter a positive number (negative to quit): -50\n",
            "Total: 452.0\n"
          ]
        }
      ]
    }
  ]
}